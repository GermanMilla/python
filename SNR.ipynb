{
  "nbformat": 4,
  "nbformat_minor": 0,
  "metadata": {
    "colab": {
      "provenance": [],
      "authorship_tag": "ABX9TyPYfar2gGb0yiabYWtl+pIn",
      "include_colab_link": true
    },
    "kernelspec": {
      "name": "python3",
      "display_name": "Python 3"
    },
    "language_info": {
      "name": "python"
    }
  },
  "cells": [
    {
      "cell_type": "markdown",
      "metadata": {
        "id": "view-in-github",
        "colab_type": "text"
      },
      "source": [
        "<a href=\"https://colab.research.google.com/github/GermanMilla/python/blob/main/SNR.ipynb\" target=\"_parent\"><img src=\"https://colab.research.google.com/assets/colab-badge.svg\" alt=\"Open In Colab\"/></a>"
      ]
    },
    {
      "cell_type": "code",
      "source": [
        "import urllib.request\n",
        "\n",
        "urllib.request.urlretrieve('https://www2.cs.uic.edu/~i101/SoundFiles/CantinaBand60.wav','CantinaBand60.wav')"
      ],
      "metadata": {
        "colab": {
          "base_uri": "https://localhost:8080/"
        },
        "id": "AiNhWLahwf6w",
        "outputId": "6a5a6425-c5a0-472e-bf0c-467f5a63f6ac"
      },
      "execution_count": null,
      "outputs": [
        {
          "output_type": "execute_result",
          "data": {
            "text/plain": [
              "('CantinaBand60.wav', <http.client.HTTPMessage at 0x7fd6fb647ac0>)"
            ]
          },
          "metadata": {},
          "execution_count": 1
        }
      ]
    },
    {
      "cell_type": "code",
      "execution_count": null,
      "metadata": {
        "colab": {
          "base_uri": "https://localhost:8080/"
        },
        "id": "Z8ZJTQBewPDU",
        "outputId": "0b2845bf-c501-481d-e896-9d41dd81a872"
      },
      "outputs": [
        {
          "output_type": "stream",
          "name": "stdout",
          "text": [
            "13.12880725603196\n"
          ]
        }
      ],
      "source": [
        "import wave\n",
        "import numpy as np\n",
        "\n",
        "\n",
        "# Load the wav file\n",
        "wav = wave.open('CantinaBand60.wav', 'r')\n",
        "\n",
        "# Extract the raw audio data from the wav file\n",
        "raw_data = wav.readframes(-1)\n",
        "\n",
        "# Convert the raw audio data to a NumPy array\n",
        "data = np.frombuffer(raw_data, dtype=np.int16)\n",
        "\n",
        "# Calculate the RMS value of the signal\n",
        "signal_rms = np.sqrt(np.mean(data**2))\n",
        "\n",
        "# Identify the regions of the wav file that contain only noise\n",
        "noise_regions = np.where(np.abs(data) < signal_rms / 10)\n",
        "\n",
        "# Calculate the RMS value of the noise in the file\n",
        "noise_rms = np.sqrt(np.mean(data[noise_regions]**2))\n",
        "\n",
        "# Calculate the SNR\n",
        "snr = signal_rms / noise_rms\n",
        "\n",
        "# Print the SNR in dB\n",
        "print(10 * np.log10(snr))"
      ]
    }
  ]
}